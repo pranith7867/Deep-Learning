{
  "cells": [
    {
      "cell_type": "markdown",
      "metadata": {
        "colab_type": "text",
        "id": "view-in-github"
      },
      "source": [
        "<a href=\"https://colab.research.google.com/github/pranith7867/Deep-Learning/blob/main/Pytorch_tutorial_1%5BTensors%5D.ipynb\" target=\"_parent\"><img src=\"https://colab.research.google.com/assets/colab-badge.svg\" alt=\"Open In Colab\"/></a>"
      ]
    },
    {
      "cell_type": "markdown",
      "metadata": {
        "id": "dAdKOqLAINiW"
      },
      "source": [
        "Importing Libraries"
      ]
    },
    {
      "cell_type": "code",
      "execution_count": null,
      "metadata": {},
      "outputs": [],
      "source": [
        "import torch\n",
        "import numpy as np"
      ]
    },
    {
      "cell_type": "markdown",
      "metadata": {
        "id": "-7skXr66HGyC"
      },
      "source": [
        "### Intializing a Tensor"
      ]
    },
    {
      "cell_type": "markdown",
      "metadata": {
        "id": "VHPGz3W_IJ-K"
      },
      "source": [
        "**Directly from data**"
      ]
    },
    {
      "cell_type": "code",
      "execution_count": 6,
      "metadata": {
        "colab": {
          "base_uri": "https://localhost:8080/"
        },
        "id": "vmTkWmJ3G8fN",
        "outputId": "dbb84edc-aa37-4914-d822-0d2c15cfde4b"
      },
      "outputs": [
        {
          "name": "stdout",
          "output_type": "stream",
          "text": [
            "torch.int64\n",
            "tensor([[1, 2],\n",
            "        [3, 4]])\n"
          ]
        }
      ],
      "source": [
        "data  = [[1,2],[3,4]]\n",
        "x_data = torch.tensor(data) #Converting to tensor\n",
        "print(x_data.dtype)\n",
        "print(x_data)"
      ]
    },
    {
      "cell_type": "markdown",
      "metadata": {
        "id": "kOK62WurID8B"
      },
      "source": [
        "**From a numpy array**\n"
      ]
    },
    {
      "cell_type": "code",
      "execution_count": 7,
      "metadata": {
        "colab": {
          "base_uri": "https://localhost:8080/"
        },
        "id": "h_RkDtt5HaW-",
        "outputId": "ea1d8577-6bf7-4ef0-f884-7a96547c9550"
      },
      "outputs": [
        {
          "name": "stdout",
          "output_type": "stream",
          "text": [
            "torch.int64\n",
            "int64\n"
          ]
        }
      ],
      "source": [
        "np_array = np.array(data) #Converting Data into numpy array\n",
        "x_np = torch.from_numpy(np_array) #Converting Data into Tensor from numpy array\n",
        "print(x_np.dtype)\n",
        "print(np_array.dtype)"
      ]
    },
    {
      "cell_type": "markdown",
      "metadata": {
        "id": "uOK_xMwyI3DU"
      },
      "source": [
        "**From another Tensor**"
      ]
    },
    {
      "cell_type": "code",
      "execution_count": 8,
      "metadata": {
        "colab": {
          "base_uri": "https://localhost:8080/"
        },
        "id": "aD16GbOgHhZp",
        "outputId": "9e320835-facc-4326-b16b-c0bd31ac51b4"
      },
      "outputs": [
        {
          "name": "stdout",
          "output_type": "stream",
          "text": [
            "tensor([[1, 1],\n",
            "        [1, 1]])\n"
          ]
        }
      ],
      "source": [
        "x_ones = torch.ones_like(x_data) #gets propeties from from x_data\n",
        "print(x_ones)"
      ]
    },
    {
      "cell_type": "code",
      "execution_count": 18,
      "metadata": {
        "colab": {
          "base_uri": "https://localhost:8080/"
        },
        "id": "HfW1tyulJU0U",
        "outputId": "ea934fb9-24df-40f5-ae65-c573e1642c75"
      },
      "outputs": [
        {
          "data": {
            "text/plain": [
              "tensor([[0.9528, 0.7283],\n",
              "        [0.7899, 0.7359]])"
            ]
          },
          "execution_count": 18,
          "metadata": {},
          "output_type": "execute_result"
        }
      ],
      "source": [
        "x_rand = torch.rand_like(x_data,dtype=torch.float)\n",
        "x_rand"
      ]
    },
    {
      "cell_type": "markdown",
      "metadata": {
        "id": "3mD49sUtJ_3x"
      },
      "source": [
        "**With Random or Constant values**"
      ]
    },
    {
      "cell_type": "code",
      "execution_count": 19,
      "metadata": {
        "colab": {
          "base_uri": "https://localhost:8080/"
        },
        "id": "LNZnWdOrJnK3",
        "outputId": "73713b1c-d7eb-4614-8f4f-de4165fe0f44"
      },
      "outputs": [
        {
          "data": {
            "text/plain": [
              "tensor([[0.6488, 0.9241],\n",
              "        [0.5163, 0.7686]])"
            ]
          },
          "execution_count": 19,
          "metadata": {},
          "output_type": "execute_result"
        }
      ],
      "source": [
        "x_rand = torch.rand(x_data.shape)\n",
        "x_rand"
      ]
    },
    {
      "cell_type": "code",
      "execution_count": 20,
      "metadata": {
        "colab": {
          "base_uri": "https://localhost:8080/"
        },
        "id": "XfEM3HS2KVow",
        "outputId": "4fe38d57-6416-4fb5-a3b8-e29bf1a3f2fc"
      },
      "outputs": [
        {
          "name": "stdout",
          "output_type": "stream",
          "text": [
            "Random Tensor: \n",
            " tensor([[0.9431, 0.8340, 0.1777],\n",
            "        [0.1103, 0.2169, 0.7151]]) \n",
            "\n",
            "Ones Tensor: \n",
            " tensor([[1., 1., 1.],\n",
            "        [1., 1., 1.]]) \n",
            "\n",
            "Zeros Tensor: \n",
            " tensor([[0., 0., 0.],\n",
            "        [0., 0., 0.]])\n"
          ]
        }
      ],
      "source": [
        "shape = (2,3,)\n",
        "rand_tensor = torch.rand(shape)\n",
        "ones_tensor = torch.ones(shape)\n",
        "zeros_tensor = torch.zeros(shape)\n",
        "\n",
        "print(f\"Random Tensor: \\n {rand_tensor} \\n\")\n",
        "print(f\"Ones Tensor: \\n {ones_tensor} \\n\")\n",
        "print(f\"Zeros Tensor: \\n {zeros_tensor}\")"
      ]
    },
    {
      "cell_type": "markdown",
      "metadata": {
        "id": "aFsDtFqqLPRf"
      },
      "source": [
        "**Attributes of A Tensor**"
      ]
    },
    {
      "cell_type": "code",
      "execution_count": 21,
      "metadata": {
        "colab": {
          "base_uri": "https://localhost:8080/"
        },
        "id": "mIN_rkfBKbFN",
        "outputId": "e7abab79-196e-4d92-ad63-278649c94820"
      },
      "outputs": [
        {
          "name": "stdout",
          "output_type": "stream",
          "text": [
            "torch.Size([2, 2])\n",
            "cpu\n",
            "torch.int64\n"
          ]
        }
      ],
      "source": [
        "print(x_data.shape) # Shape attribute\n",
        "print(x_data.device) # device attribute\n",
        "print(x_data.dtype) # datatype attribute"
      ]
    },
    {
      "cell_type": "markdown",
      "metadata": {
        "id": "PybTizr8L3pD"
      },
      "source": [
        "### Operations on Tensors"
      ]
    },
    {
      "cell_type": "code",
      "execution_count": 24,
      "metadata": {
        "colab": {
          "base_uri": "https://localhost:8080/"
        },
        "id": "43d5rP5gL9Ax",
        "outputId": "33df207f-c898-403b-931e-1e0c6dbb0d3c"
      },
      "outputs": [
        {
          "name": "stdout",
          "output_type": "stream",
          "text": [
            "BETTER LUCK NEXT TIME FOR GPU\n"
          ]
        }
      ],
      "source": [
        "# We Move Tensors to Gpu for better tiem and memory\n",
        "if torch.cuda.is_available():\n",
        "  print(\"YEAH YOU HAVE A GPU \")\n",
        "  tensor = tensor.to('cuda')\n",
        "else:\n",
        "  print(\"BETTER LUCK NEXT TIME FOR GPU\")"
      ]
    },
    {
      "cell_type": "markdown",
      "metadata": {
        "id": "hIVHvluIMz2I"
      },
      "source": [
        "**Standard numpy-like indexing and slicing**"
      ]
    },
    {
      "cell_type": "code",
      "execution_count": 27,
      "metadata": {
        "colab": {
          "base_uri": "https://localhost:8080/"
        },
        "id": "TGsXVxUEMhc9",
        "outputId": "c2b17c8e-dfe5-4d23-a2fa-4ba823ee4d6f"
      },
      "outputs": [
        {
          "name": "stdout",
          "output_type": "stream",
          "text": [
            "First row:  tensor([0.1685, 0.6270, 0.5616, 0.5479])\n",
            "First Column:  tensor([0.1685, 0.7224, 0.4310, 0.9545])\n",
            "Last Column:  tensor([0.5479, 0.5405, 0.4582, 0.2762])\n",
            "Tensor:  tensor([[0.1685, 0.0000, 0.5616, 0.5479],\n",
            "        [0.7224, 0.0000, 0.8493, 0.5405],\n",
            "        [0.4310, 0.0000, 0.6063, 0.4582],\n",
            "        [0.9545, 0.0000, 0.3894, 0.2762]])\n"
          ]
        }
      ],
      "source": [
        "tensor = torch.rand(4,4)\n",
        "print(\"First row: \", tensor[0])\n",
        "print(\"First Column: \", tensor[:, 0])\n",
        "print(\"Last Column: \", tensor[:, -1])\n",
        "tensor[:, 1] = 0 #updating First Column\n",
        "print(\"Tensor: \", tensor)"
      ]
    },
    {
      "cell_type": "markdown",
      "metadata": {
        "id": "Uknib_CDOPSB"
      },
      "source": [
        "**Joining tensors**"
      ]
    },
    {
      "cell_type": "code",
      "execution_count": 34,
      "metadata": {
        "colab": {
          "base_uri": "https://localhost:8080/"
        },
        "id": "NVosPDGJNnhD",
        "outputId": "bcc60ad2-d438-4974-c6b2-16e1375195eb"
      },
      "outputs": [
        {
          "data": {
            "text/plain": [
              "tensor([[0.1685, 0.0000, 0.5616,  ..., 0.0000, 0.5616, 0.5479],\n",
              "        [0.7224, 0.0000, 0.8493,  ..., 0.0000, 0.8493, 0.5405],\n",
              "        [0.4310, 0.0000, 0.6063,  ..., 0.0000, 0.6063, 0.4582],\n",
              "        ...,\n",
              "        [0.7224, 0.0000, 0.8493,  ..., 0.0000, 0.8493, 0.5405],\n",
              "        [0.4310, 0.0000, 0.6063,  ..., 0.0000, 0.6063, 0.4582],\n",
              "        [0.9545, 0.0000, 0.3894,  ..., 0.0000, 0.3894, 0.2762]])"
            ]
          },
          "execution_count": 34,
          "metadata": {},
          "output_type": "execute_result"
        }
      ],
      "source": [
        "tensor = torch.cat([tensor,tensor,tensor], dim=1)\n",
        "tensor"
      ]
    },
    {
      "cell_type": "markdown",
      "metadata": {
        "id": "meoV7VRdPOis"
      },
      "source": [
        "**Arithmetic operations**"
      ]
    },
    {
      "cell_type": "code",
      "execution_count": 38,
      "metadata": {
        "colab": {
          "base_uri": "https://localhost:8080/"
        },
        "id": "mb9t70s8OiZ3",
        "outputId": "b1a48d71-fa55-4f32-e341-9220e9e78ef6"
      },
      "outputs": [
        {
          "data": {
            "text/plain": [
              "tensor([[1., 1., 1.],\n",
              "        [1., 1., 1.],\n",
              "        [1., 1., 1.]])"
            ]
          },
          "execution_count": 38,
          "metadata": {},
          "output_type": "execute_result"
        }
      ],
      "source": [
        "tensor = torch.ones(3,3)\n",
        "tensor"
      ]
    },
    {
      "cell_type": "code",
      "execution_count": 40,
      "metadata": {
        "colab": {
          "base_uri": "https://localhost:8080/"
        },
        "id": "p7DWAM9OPVe5",
        "outputId": "83f55dad-6fcb-4ca7-d2a8-f3f873bfd194"
      },
      "outputs": [
        {
          "data": {
            "text/plain": [
              "tensor([[3., 3., 3.],\n",
              "        [3., 3., 3.],\n",
              "        [3., 3., 3.]])"
            ]
          },
          "execution_count": 40,
          "metadata": {},
          "output_type": "execute_result"
        }
      ],
      "source": [
        "# This computes the matrix multiplication between two tensors. y1, y2, y3 will have the same value\n",
        "y1 = tensor @ tensor.T\n",
        "y2 = tensor.matmul(tensor.T)\n",
        "y3 = torch.rand_like(tensor)\n",
        "torch.matmul(tensor, tensor.T, out = y3)\n"
      ]
    },
    {
      "cell_type": "code",
      "execution_count": 41,
      "metadata": {
        "colab": {
          "base_uri": "https://localhost:8080/"
        },
        "id": "sqb16yhOP3X1",
        "outputId": "2837070c-64be-4d2a-d956-fc4a528875ee"
      },
      "outputs": [
        {
          "data": {
            "text/plain": [
              "tensor([[3., 3., 3.],\n",
              "        [3., 3., 3.],\n",
              "        [3., 3., 3.]])"
            ]
          },
          "execution_count": 41,
          "metadata": {},
          "output_type": "execute_result"
        }
      ],
      "source": [
        "y1"
      ]
    },
    {
      "cell_type": "code",
      "execution_count": 42,
      "metadata": {
        "colab": {
          "base_uri": "https://localhost:8080/"
        },
        "id": "ZnzrpM-2QUOC",
        "outputId": "b238c6ec-0488-40db-f4ef-7ea42bdcd072"
      },
      "outputs": [
        {
          "data": {
            "text/plain": [
              "tensor([[3., 3., 3.],\n",
              "        [3., 3., 3.],\n",
              "        [3., 3., 3.]])"
            ]
          },
          "execution_count": 42,
          "metadata": {},
          "output_type": "execute_result"
        }
      ],
      "source": [
        "y2"
      ]
    },
    {
      "cell_type": "code",
      "execution_count": 43,
      "metadata": {
        "colab": {
          "base_uri": "https://localhost:8080/"
        },
        "id": "pooXHUfrQVGc",
        "outputId": "023e7585-3e7d-4ac7-f0ea-268f1adde525"
      },
      "outputs": [
        {
          "data": {
            "text/plain": [
              "tensor([[1., 1., 1.],\n",
              "        [1., 1., 1.],\n",
              "        [1., 1., 1.]])"
            ]
          },
          "execution_count": 43,
          "metadata": {},
          "output_type": "execute_result"
        }
      ],
      "source": [
        "# This computes the element-wise product. z1, z2, z3 will have the same value\n",
        "z1 = tensor * tensor\n",
        "z2 = tensor.mul(tensor)\n",
        "\n",
        "z3 = torch.rand_like(tensor)\n",
        "torch.mul(tensor, tensor, out=z3)"
      ]
    },
    {
      "cell_type": "markdown",
      "metadata": {
        "id": "TMOZsDd6QpST"
      },
      "source": [
        "**Single-Element Tensors**"
      ]
    },
    {
      "cell_type": "code",
      "execution_count": 44,
      "metadata": {
        "colab": {
          "base_uri": "https://localhost:8080/"
        },
        "id": "9WMCJejzQ1no",
        "outputId": "5c9cd46c-b178-4ab2-fd0c-042a5268717a"
      },
      "outputs": [
        {
          "data": {
            "text/plain": [
              "tensor([[1., 1., 1.],\n",
              "        [1., 1., 1.],\n",
              "        [1., 1., 1.]])"
            ]
          },
          "execution_count": 44,
          "metadata": {},
          "output_type": "execute_result"
        }
      ],
      "source": [
        "tensor"
      ]
    },
    {
      "cell_type": "code",
      "execution_count": 47,
      "metadata": {
        "colab": {
          "base_uri": "https://localhost:8080/"
        },
        "id": "9kzk7OB_QmMl",
        "outputId": "3eb643c1-82eb-4cb5-dc67-23f08ec1b6d9"
      },
      "outputs": [
        {
          "data": {
            "text/plain": [
              "9.0"
            ]
          },
          "execution_count": 47,
          "metadata": {},
          "output_type": "execute_result"
        }
      ],
      "source": [
        "agg = tensor.sum() #Returns the sum of a Tensor\n",
        "agg_item = agg.item()\n",
        "agg_item"
      ]
    },
    {
      "cell_type": "markdown",
      "metadata": {
        "id": "Hr1_PpHsROzq"
      },
      "source": [
        "**In-Place opeartions**\n",
        "\n",
        "\n",
        "```\n",
        "Operations that store the result into the operand are called in-place. They are denoted by a _ suffix. For example: x.copy_(y), x.t_(), will change x\n",
        "```\n",
        "\n"
      ]
    },
    {
      "cell_type": "code",
      "execution_count": 48,
      "metadata": {
        "colab": {
          "base_uri": "https://localhost:8080/"
        },
        "id": "VRxfkvwjQ5U_",
        "outputId": "0d53a1a5-1b8f-45be-ef89-509c9a948ddf"
      },
      "outputs": [
        {
          "name": "stdout",
          "output_type": "stream",
          "text": [
            "tensor([[1., 1., 1.],\n",
            "        [1., 1., 1.],\n",
            "        [1., 1., 1.]]) \n",
            "\n",
            "tensor([[6., 6., 6.],\n",
            "        [6., 6., 6.],\n",
            "        [6., 6., 6.]])\n"
          ]
        }
      ],
      "source": [
        "print(tensor, \"\\n\")\n",
        "tensor.add_(5)\n",
        "print(tensor)"
      ]
    },
    {
      "cell_type": "markdown",
      "metadata": {
        "id": "3i4B1jmPRdLF"
      },
      "source": [
        "### Bridge With Numpy"
      ]
    },
    {
      "cell_type": "markdown",
      "metadata": {
        "id": "TfhDcnRvR1Oo"
      },
      "source": [
        "**Tensors to numpy array**"
      ]
    },
    {
      "cell_type": "code",
      "execution_count": 50,
      "metadata": {
        "colab": {
          "base_uri": "https://localhost:8080/"
        },
        "id": "5PT2TPPWRZdt",
        "outputId": "8da6d188-8e8f-4ef5-f077-e18d17f612bf"
      },
      "outputs": [
        {
          "name": "stdout",
          "output_type": "stream",
          "text": [
            "t: tensor([[1., 1., 1., 1., 1.],\n",
            "        [1., 1., 1., 1., 1.],\n",
            "        [1., 1., 1., 1., 1.],\n",
            "        [1., 1., 1., 1., 1.],\n",
            "        [1., 1., 1., 1., 1.]])\n",
            "n: [[1. 1. 1. 1. 1.]\n",
            " [1. 1. 1. 1. 1.]\n",
            " [1. 1. 1. 1. 1.]\n",
            " [1. 1. 1. 1. 1.]\n",
            " [1. 1. 1. 1. 1.]]\n"
          ]
        }
      ],
      "source": [
        "t = torch.ones(5,5)\n",
        "print(f\"t: {t}\")\n",
        "n = t.numpy()\n",
        "print(f\"n: {n}\")"
      ]
    },
    {
      "cell_type": "markdown",
      "metadata": {
        "id": "0s1aRM7BSEDG"
      },
      "source": [
        "A change in the tensor reflects in the NumPy array."
      ]
    },
    {
      "cell_type": "code",
      "execution_count": 51,
      "metadata": {
        "colab": {
          "base_uri": "https://localhost:8080/"
        },
        "id": "Ax5vsB-yR5tS",
        "outputId": "d424fa59-e346-42f9-e7e5-a30697947846"
      },
      "outputs": [
        {
          "name": "stdout",
          "output_type": "stream",
          "text": [
            "t: tensor([[2., 2., 2., 2., 2.],\n",
            "        [2., 2., 2., 2., 2.],\n",
            "        [2., 2., 2., 2., 2.],\n",
            "        [2., 2., 2., 2., 2.],\n",
            "        [2., 2., 2., 2., 2.]])\n",
            "n: [[2. 2. 2. 2. 2.]\n",
            " [2. 2. 2. 2. 2.]\n",
            " [2. 2. 2. 2. 2.]\n",
            " [2. 2. 2. 2. 2.]\n",
            " [2. 2. 2. 2. 2.]]\n"
          ]
        }
      ],
      "source": [
        "t.add_(1)\n",
        "print(f\"t: {t}\")\n",
        "print(f\"n: {n}\")"
      ]
    },
    {
      "cell_type": "markdown",
      "metadata": {
        "id": "dAuAmcNWSPou"
      },
      "source": [
        "**Numpy array to Tensor**"
      ]
    },
    {
      "cell_type": "code",
      "execution_count": 52,
      "metadata": {
        "id": "oZu1H0rhSNme"
      },
      "outputs": [],
      "source": [
        "n = np.ones(5)\n",
        "t = torch.from_numpy(n)"
      ]
    },
    {
      "cell_type": "markdown",
      "metadata": {
        "id": "kPhXqtIrSa5h"
      },
      "source": [
        "Changes in the NumPy array reflects in the tensor."
      ]
    },
    {
      "cell_type": "code",
      "execution_count": 53,
      "metadata": {
        "colab": {
          "base_uri": "https://localhost:8080/"
        },
        "id": "MhEj7V1kSW-F",
        "outputId": "d71f749b-9fdc-4405-d09f-a106141adccc"
      },
      "outputs": [
        {
          "name": "stdout",
          "output_type": "stream",
          "text": [
            "t: tensor([2., 2., 2., 2., 2.], dtype=torch.float64)\n",
            "n: [2. 2. 2. 2. 2.]\n"
          ]
        }
      ],
      "source": [
        "np.add(n, 1, out=n)\n",
        "print(f\"t: {t}\")\n",
        "print(f\"n: {n}\")"
      ]
    },
    {
      "cell_type": "code",
      "execution_count": null,
      "metadata": {
        "id": "UEK5ol4HShfa"
      },
      "outputs": [],
      "source": []
    }
  ],
  "metadata": {
    "colab": {
      "authorship_tag": "ABX9TyMN5qRj9b1mlFK2c4CbuEtu",
      "include_colab_link": true,
      "name": "Pytorch-tutorial-1[Tensors]",
      "provenance": []
    },
    "kernelspec": {
      "display_name": "Python 3",
      "name": "python3"
    },
    "language_info": {
      "codemirror_mode": {
        "name": "ipython",
        "version": 3
      },
      "file_extension": ".py",
      "mimetype": "text/x-python",
      "name": "python",
      "nbconvert_exporter": "python",
      "pygments_lexer": "ipython3",
      "version": "3.9.0"
    }
  },
  "nbformat": 4,
  "nbformat_minor": 0
}
